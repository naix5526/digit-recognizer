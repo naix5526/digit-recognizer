{
 "cells": [
  {
   "cell_type": "code",
   "execution_count": 8,
   "metadata": {},
   "outputs": [],
   "source": [
    "import os\n",
    "import sys\n",
    "from fuzzywuzzy import fuzz\n",
    "import subprocess\n",
    "\n",
    "path = '/home/nishan/Desktop/data science/number/new/'\n",
    "\n",
    "\n",
    "files = os.listdir(path)\n",
    "pyfiles = []\n",
    "for root, dirs, files in os.walk(path):\n",
    "      for file in files:\n",
    "        if file.endswith('.py'):\n",
    "              pyfiles.append(os.path.join(root, file))\n",
    "\n",
    "stopWords = ['from', 'import',',','.']\n",
    "\n",
    "importables = []\n",
    "\n",
    "for file in pyfiles:\n",
    "    with open(file) as f:\n",
    "        content = f.readlines()\n",
    "\n",
    "        for line in content:\n",
    "            if \"import\" in line:\n",
    "                for sw in stopWords:\n",
    "                    line = ' '.join(line.split(sw))\n",
    "\n",
    "                importables.append(line.strip().split(' ')[0])\n",
    "\n",
    "importables = set(importables)\n",
    "\n",
    "subprocess.call(f\"pip freeze > {path}/requirements.txt\", shell=True)\n",
    "\n",
    "with open(path+'/requirements.txt') as req:\n",
    "    modules = req.readlines()\n",
    "    modules = {m.split('=')[0].lower() : m for m in modules}\n",
    "\n",
    "\n",
    "notList = [''.join(i.split('_')) for i in sys.builtin_module_names]+['os']\n",
    "\n",
    "new_requirements = []\n",
    "for req_module in importables:\n",
    "    try :\n",
    "        new_requirements.append(modules[req_module])\n",
    "\n",
    "    except KeyError:\n",
    "        for k,v in modules.items():\n",
    "            if len(req_module)>1 and req_module not in notList:\n",
    "                if fuzz.partial_ratio(req_module,k) > 90:\n",
    "                    new_requirements.append(modules[k])\n",
    "\n",
    "new_requirements = [i for i in set(new_requirements)]\n",
    "\n",
    "new_requirements\n",
    "\n",
    "with open(path+'/requirements.txt','w') as req:\n",
    "    req.write(''.join(new_requirements))\n",
    "    \n"
   ]
  },
  {
   "cell_type": "code",
   "execution_count": null,
   "metadata": {},
   "outputs": [],
   "source": []
  }
 ],
 "metadata": {
  "kernelspec": {
   "display_name": "Python 3",
   "language": "python",
   "name": "python3"
  },
  "language_info": {
   "codemirror_mode": {
    "name": "ipython",
    "version": 3
   },
   "file_extension": ".py",
   "mimetype": "text/x-python",
   "name": "python",
   "nbconvert_exporter": "python",
   "pygments_lexer": "ipython3",
   "version": "3.7.6"
  }
 },
 "nbformat": 4,
 "nbformat_minor": 4
}
