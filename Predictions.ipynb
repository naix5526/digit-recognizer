{
 "cells": [
  {
   "cell_type": "code",
   "execution_count": 18,
   "metadata": {},
   "outputs": [],
   "source": [
    "import joblib\n",
    "import cv2\n",
    "import numpy as np\n",
    "import time\n",
    "import pyscreenshot as ImageGrab"
   ]
  },
  {
   "cell_type": "code",
   "execution_count": 19,
   "metadata": {},
   "outputs": [],
   "source": [
    "## Loading the model\n",
    "model = joblib.load(\"recognizer\")"
   ]
  },
  {
   "cell_type": "code",
   "execution_count": 20,
   "metadata": {},
   "outputs": [],
   "source": [
    "image = \"image/\""
   ]
  },
  {
   "cell_type": "code",
   "execution_count": 23,
   "metadata": {},
   "outputs": [
    {
     "name": "stdout",
     "output_type": "stream",
     "text": [
      "Prediction: 1\n",
      "Prediction: 1\n",
      "Prediction: 1\n",
      "Prediction: 1\n",
      "Prediction: 4\n",
      "Prediction: 5\n",
      "Prediction: 1\n",
      "Prediction: 2\n",
      "Prediction: 7\n",
      "Prediction: 2\n",
      "Prediction: 4\n",
      "Prediction: 1\n",
      "Prediction: 1\n",
      "Prediction: 1\n",
      "Prediction: 0\n"
     ]
    }
   ],
   "source": [
    "while True:\n",
    "    img = ImageGrab.grab(bbox = (60,170,400,500))\n",
    "    img.save(image+\"img.png\")\n",
    "    im = cv2.imread(image+\"img.png\")\n",
    "    \n",
    "    im_gray = cv2.cvtColor(im, cv2.COLOR_BGR2GRAY)\n",
    "    im_gray = cv2.GaussianBlur(im_gray, (15,15), 0)\n",
    "    \n",
    "    # Threshold the image\n",
    "    ret, im_th = cv2.threshold(im_gray, 100, 255, cv2.THRESH_BINARY)\n",
    "    roi = cv2.resize(im_th, (28,28), interpolation = cv2.INTER_AREA)\n",
    "    \n",
    "    rows,cols = roi.shape\n",
    "    \n",
    "    X = []\n",
    "    \n",
    "    # Adding pixel value in data array\n",
    "    for i in range(rows):\n",
    "        for j in range(cols):\n",
    "            k = roi[i,j]\n",
    "            if k>100:\n",
    "                k = 1\n",
    "            else:\n",
    "                k = 0\n",
    "            X.append(k)\n",
    "    \n",
    "    prediction = model.predict([X])\n",
    "    print(\"Prediction:\", prediction[0])\n",
    "    cv2.putText(im,\"The Number is: \" + str(prediction[0]), (20,20), 0, 0.8, (0,255,0), 2, cv2.LINE_AA)\n",
    "    \n",
    "    cv2.startWindowThread()\n",
    "    cv2.namedWindow(\"Result\")\n",
    "    cv2.imshow(\"Result\", im)\n",
    "    cv2.waitKey(10000)\n",
    "    time.sleep(2)\n",
    "    if cv2.waitKey(1) == 13:\n",
    "        break\n",
    "cv2.destroyAllWindows()\n"
   ]
  },
  {
   "cell_type": "code",
   "execution_count": null,
   "metadata": {},
   "outputs": [],
   "source": []
  }
 ],
 "metadata": {
  "kernelspec": {
   "display_name": "Python 3",
   "language": "python",
   "name": "python3"
  },
  "language_info": {
   "codemirror_mode": {
    "name": "ipython",
    "version": 3
   },
   "file_extension": ".py",
   "mimetype": "text/x-python",
   "name": "python",
   "nbconvert_exporter": "python",
   "pygments_lexer": "ipython3",
   "version": "3.7.6"
  }
 },
 "nbformat": 4,
 "nbformat_minor": 4
}
